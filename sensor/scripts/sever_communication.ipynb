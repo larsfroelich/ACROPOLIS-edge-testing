{
 "cells": [
  {
   "cell_type": "code",
   "execution_count": null,
   "metadata": {},
   "outputs": [],
   "source": [
    "import json\n",
    "import httpx\n",
    "import dotenv\n",
    "import os\n",
    "\n",
    "dotenv.load_dotenv(\"../config/.env.development\")\n"
   ]
  },
  {
   "attachments": {},
   "cell_type": "markdown",
   "id": "cde78e9a",
   "metadata": {},
   "source": [
    "**Fetching Access Token**"
   ]
  },
  {
   "cell_type": "code",
   "execution_count": null,
   "id": "53a9b45c",
   "metadata": {},
   "outputs": [],
   "source": [
    "url = os.environ[\"SERVER_URL\"] + \"/authentication\"\n",
    "body = {\n",
    "    \"username\": os.environ[\"SERVER_USERNAME\"],\n",
    "    \"password\": os.environ[\"SERVER_PASSWORD\"]\n",
    "}\n",
    "\n",
    "auth_response = httpx.post(url=url, json=body)\n",
    "assert str(auth_response.status_code).startswith(\"2\"), auth_response\n",
    "print(json.dumps(auth_response.json(), indent=4))\n",
    "access_token = auth_response.json()['access_token']"
   ]
  },
  {
   "attachments": {},
   "cell_type": "markdown",
   "id": "d3ffe1d5",
   "metadata": {},
   "source": [
    "**Creating a Sensor**"
   ]
  },
  {
   "cell_type": "code",
   "execution_count": null,
   "id": "b8127583",
   "metadata": {},
   "outputs": [],
   "source": [
    "url = os.environ[\"SERVER_URL\"] + \"/sensors\"\n",
    "headers = {\n",
    "    \"authorization\": f\"Bearer {access_token}\"\n",
    "}\n",
    "body = {\n",
    "    \"sensor_name\": \"tum-esm-midcost-raspi-1\",\n",
    "    \"network_identifier\": \"81bf7042-e20f-4a97-ac44-c15853e3618f\",\n",
    "    \"configuration\": {\n",
    "        \"version\": \"0.1.0-alpha.5\",\n",
    "        \"active_components\": {\n",
    "            \"calibration_procedures\": False,\n",
    "            \"mqtt_data_sending\": True,\n",
    "            \"heated_enclosure_communication\": False,\n",
    "            \"pump_speed_monitoring\": False\n",
    "        },\n",
    "        \"hardware\": {\n",
    "            \"pumped_litres_per_round\": 0.003,\n",
    "            \"inner_tube_diameter_millimiters\": 4\n",
    "        },\n",
    "        \"measurement\": {\n",
    "            \"timing\": {\n",
    "                \"seconds_per_measurement_interval\": 120,\n",
    "                \"seconds_per_measurement\": 10\n",
    "            },\n",
    "            \"pumped_litres_per_minute\": 4,\n",
    "            \"air_inlets\": [\n",
    "                { \"valve_number\": 1, \"direction\": 300, \"tube_length\": 50 },\n",
    "                { \"valve_number\": 2, \"direction\": 50, \"tube_length\": 50 }\n",
    "            ]\n",
    "        },\n",
    "        \"calibration\": {\n",
    "            \"hours_between_calibrations\": 25,\n",
    "            \"gases\": [\n",
    "                { \"valve_number\": 3, \"concentration\": 400 },\n",
    "                { \"valve_number\": 4, \"concentration\": 800 }\n",
    "            ],\n",
    "            \"flushing\": {\n",
    "                \"seconds\": 300,\n",
    "                \"pumped_litres_per_minute\": 0.5\n",
    "            },\n",
    "            \"sampling\": {\n",
    "                \"pumped_litres_per_minute\": 0.5,\n",
    "                \"sample_count\": 20,\n",
    "                \"seconds_per_sample\": 300\n",
    "            },\n",
    "            \"cleaning\": {\n",
    "                \"seconds\": 300,\n",
    "                \"pumped_litres_per_minute\": 0.5\n",
    "            }\n",
    "        },\n",
    "        \"heated_enclosure\": {\n",
    "            \"target_temperature\": 40,\n",
    "            \"allowed_deviation\": 3\n",
    "        }\n",
    "    },\n",
    "}\n",
    "\n",
    "sensor_creation_response = httpx.post(url=url, headers=headers, json=body)\n",
    "assert str(sensor_creation_response.status_code).startswith(\"2\"), sensor_creation_response\n",
    "print(json.dumps(sensor_creation_response.json(), indent=4))"
   ]
  },
  {
   "attachments": {},
   "cell_type": "markdown",
   "id": "0b1c8223",
   "metadata": {},
   "source": [
    "**Store list of sensor identifiers**"
   ]
  },
  {
   "cell_type": "code",
   "execution_count": 15,
   "id": "674a7610",
   "metadata": {},
   "outputs": [],
   "source": [
    "MQTT_SENSOR_IDENTIFIERS = {\n",
    "    \"tum-esm-midcost-raspi-1\": \"919ac396-de7d-4dda-8224-564739e0ff1b\"\n",
    "}"
   ]
  },
  {
   "attachments": {},
   "cell_type": "markdown",
   "id": "48360694",
   "metadata": {},
   "source": [
    "**Sending data**"
   ]
  },
  {
   "cell_type": "code",
   "execution_count": null,
   "id": "2a133e0c",
   "metadata": {},
   "outputs": [],
   "source": []
  }
 ],
 "metadata": {
  "kernelspec": {
   "display_name": ".venv",
   "language": "python",
   "name": "python3"
  },
  "language_info": {
   "codemirror_mode": {
    "name": "ipython",
    "version": 3
   },
   "file_extension": ".py",
   "mimetype": "text/x-python",
   "name": "python",
   "nbconvert_exporter": "python",
   "pygments_lexer": "ipython3",
   "version": "3.9.16"
  },
  "vscode": {
   "interpreter": {
    "hash": "b70d921925de554eb3415fc16c17e3d50a4c2158ed202675a3a8b11326bc8a0b"
   }
  }
 },
 "nbformat": 4,
 "nbformat_minor": 5
}
